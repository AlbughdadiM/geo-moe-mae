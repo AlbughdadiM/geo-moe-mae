{
 "cells": [
  {
   "cell_type": "markdown",
   "id": "b73dd4a5",
   "metadata": {},
   "source": [
    "# ==============================================================\n",
    "# Evaluate a Logistic Regression Algorithm on Top of Embeddings Extracted Using the MOE-MAE Encoder on Test Split of the BEN-LS\n",
    "# =============================================================="
   ]
  },
  {
   "cell_type": "code",
   "execution_count": null,
   "id": "48d66fae",
   "metadata": {},
   "outputs": [],
   "source": [
    "import joblib\n",
    "import numpy as np"
   ]
  },
  {
   "cell_type": "code",
   "execution_count": null,
   "id": "043adb6a",
   "metadata": {},
   "outputs": [],
   "source": [
    "npz_path_test = \"/mnt/storage/data/bigearthnet-l/bigearthnet-l/x_y_test_geomoemae_S_embed_pos_500epochs.npz\" \n",
    "npz_path_val = \"/mnt/storage/data/bigearthnet-l/bigearthnet-l/x_y_val_geomoemae_S_embed_pos_500epochs.npz\" "
   ]
  },
  {
   "cell_type": "code",
   "execution_count": null,
   "id": "13d4a6bb",
   "metadata": {},
   "outputs": [],
   "source": [
    "test_embeddings = np.load(npz_path_test)\n",
    "# x_test, y_test= (\n",
    "#     test_embeddings[\"x_test\"][:, 576:720],\n",
    "#     test_embeddings[\"y_test\"])\n",
    "\n",
    "x_test, y_test= (\n",
    "    test_embeddings[\"x_test\"],\n",
    "    test_embeddings[\"y_test\"])\n",
    "x_test = x_test.reshape(x_test.shape[0],105,144)\n",
    "x_test = x_test.mean(axis=1)\n",
    "# val_embeddings = np.load(npz_path_val)\n",
    "# x_val, y_val = (\n",
    "#     val_embeddings[\"x_val\"],\n",
    "#     val_embeddings[\"y_val\"])\n"
   ]
  },
  {
   "cell_type": "code",
   "execution_count": 4,
   "id": "27c26d94",
   "metadata": {},
   "outputs": [],
   "source": [
    "model = joblib.load(\"./artifacts/logistic_regression_500epochs_bigeartjnet_pos_20250911-042624.joblib\")"
   ]
  },
  {
   "cell_type": "code",
   "execution_count": 5,
   "id": "23c3c8de",
   "metadata": {},
   "outputs": [],
   "source": [
    "model.multilabel = True\n",
    "metrics,y_pred = model.evaluate(x_test, y_test)"
   ]
  },
  {
   "cell_type": "code",
   "execution_count": 6,
   "id": "ff082cb9",
   "metadata": {},
   "outputs": [
    {
     "data": {
      "text/plain": [
       "{'overall_accuracy': 0.23149406109720733,\n",
       " 'overall_precision': 0.7628629315556427,\n",
       " 'average_precision': 0.6774265744659121,\n",
       " 'overall_recall': 0.5143856556586884,\n",
       " 'average_recall': 0.3555460408292978,\n",
       " 'overall_f1': 0.6144547790525134,\n",
       " 'average_f1': 0.41934601789893816,\n",
       " 'overall_map': 0.7310295421323347,\n",
       " 'average_map': 0.5567593798049801}"
      ]
     },
     "execution_count": 6,
     "metadata": {},
     "output_type": "execute_result"
    }
   ],
   "source": [
    "metrics"
   ]
  },
  {
   "cell_type": "code",
   "execution_count": null,
   "id": "d8ec2b9a",
   "metadata": {},
   "outputs": [],
   "source": []
  }
 ],
 "metadata": {
  "kernelspec": {
   "display_name": "sr",
   "language": "python",
   "name": "python3"
  },
  "language_info": {
   "codemirror_mode": {
    "name": "ipython",
    "version": 3
   },
   "file_extension": ".py",
   "mimetype": "text/x-python",
   "name": "python",
   "nbconvert_exporter": "python",
   "pygments_lexer": "ipython3",
   "version": "3.9.21"
  }
 },
 "nbformat": 4,
 "nbformat_minor": 5
}
