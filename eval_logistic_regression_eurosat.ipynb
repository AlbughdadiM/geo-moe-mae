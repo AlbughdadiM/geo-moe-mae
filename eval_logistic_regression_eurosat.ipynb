{
 "cells": [
  {
   "cell_type": "markdown",
   "id": "87162d6f",
   "metadata": {},
   "source": [
    "# ==============================================================\n",
    "# Evaluate a Logistic Regression Algorithm on Top of Embeddings Extracted Using the MOE-MAE Encoder on Test Split of the EuroSAT-LS\n",
    "# =============================================================="
   ]
  },
  {
   "cell_type": "code",
   "execution_count": null,
   "id": "48d66fae",
   "metadata": {},
   "outputs": [],
   "source": [
    "import joblib\n",
    "import numpy as np"
   ]
  },
  {
   "cell_type": "code",
   "execution_count": null,
   "id": "043adb6a",
   "metadata": {},
   "outputs": [],
   "source": [
    "npz_path_test = \"/mnt/storage/data/eurosat-l/x_y_test_geomoemae_S_embed_pos_500epochs.npz\" \n",
    "npz_path_val = \"/mnt/storage/data/eurosat-l/x_y_val_geomoemae_S_embed_pos_500epochs.npz\" "
   ]
  },
  {
   "cell_type": "code",
   "execution_count": null,
   "id": "13d4a6bb",
   "metadata": {},
   "outputs": [],
   "source": [
    "test_embeddings = np.load(npz_path_test)\n",
    "x_test, y_test= (\n",
    "    test_embeddings[\"x_test\"],\n",
    "    test_embeddings[\"y_test\"])\n",
    "# x_test, y_test= (\n",
    "#     test_embeddings[\"x_test\"][:, 576:720],\n",
    "#     test_embeddings[\"y_test\"])\n",
    "x_test = x_test.reshape(x_test.shape[0],105,144)\n",
    "x_test = x_test.mean(axis=1)\n",
    "# val_embeddings = np.load(npz_path_val)\n",
    "# x_val, y_val = (\n",
    "#     val_embeddings[\"x_val\"],\n",
    "#     val_embeddings[\"y_val\"])\n"
   ]
  },
  {
   "cell_type": "code",
   "execution_count": 11,
   "id": "27c26d94",
   "metadata": {},
   "outputs": [],
   "source": [
    "model = joblib.load(\"./artifacts/logistic_regression_500epochs_eurosat_pos_20250911-065311.joblib\")"
   ]
  },
  {
   "cell_type": "code",
   "execution_count": 12,
   "id": "fd31241a",
   "metadata": {},
   "outputs": [],
   "source": [
    "y_test = y_test.argmax(axis=1)"
   ]
  },
  {
   "cell_type": "code",
   "execution_count": 13,
   "id": "23c3c8de",
   "metadata": {},
   "outputs": [],
   "source": [
    "\n",
    "model.multilabel = False\n",
    "metrics,y_pred = model.evaluate(x_test, y_test)"
   ]
  },
  {
   "cell_type": "code",
   "execution_count": 14,
   "id": "ff082cb9",
   "metadata": {},
   "outputs": [
    {
     "data": {
      "text/plain": [
       "{'overall_accuracy': 0.7429629629629629,\n",
       " 'overall_precision': 0.7429629629629629,\n",
       " 'average_precision': 0.7387185873130618,\n",
       " 'overall_recall': 0.7429629629629629,\n",
       " 'average_recall': 0.737316474216251,\n",
       " 'overall_f1': 0.7429629629629629,\n",
       " 'average_f1': 0.7305241926519812}"
      ]
     },
     "execution_count": 14,
     "metadata": {},
     "output_type": "execute_result"
    }
   ],
   "source": [
    "metrics"
   ]
  },
  {
   "cell_type": "code",
   "execution_count": null,
   "id": "7bf3de42",
   "metadata": {},
   "outputs": [],
   "source": []
  }
 ],
 "metadata": {
  "kernelspec": {
   "display_name": "sr",
   "language": "python",
   "name": "python3"
  },
  "language_info": {
   "codemirror_mode": {
    "name": "ipython",
    "version": 3
   },
   "file_extension": ".py",
   "mimetype": "text/x-python",
   "name": "python",
   "nbconvert_exporter": "python",
   "pygments_lexer": "ipython3",
   "version": "3.9.21"
  }
 },
 "nbformat": 4,
 "nbformat_minor": 5
}
